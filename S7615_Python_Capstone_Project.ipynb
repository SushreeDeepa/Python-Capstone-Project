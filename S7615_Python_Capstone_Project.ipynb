{
 "cells": [
  {
   "cell_type": "code",
   "execution_count": null,
   "metadata": {},
   "outputs": [],
   "source": [
    "import random\n",
    "import string\n",
    "import smtplib\n",
    "\n",
    " # Funtion to Generates a 6-digit random OTP.\n",
    "def generate_otp(): \n",
    "  otp = ''.join(random.choices(string.digits, k=6)) \n",
    "  return otp \n",
    "\n",
    "# Function to send OTP to email\n",
    "def send_otp_to_email(email, otp): #sends otp to email\n",
    "  try:\n",
    "    server = smtplib.SMTP('smtp.gmail.com', 587)\n",
    "    server.starttls()\n",
    "    server.login(\"sushri.deepa@gmail.com\", \"nhzl zhhs hpwz qiet\")\n",
    "\n",
    "    subject = \"Your OTP\"\n",
    "    body = f\"Your OTP is: {otp}\"\n",
    "\n",
    "    message = f\"Subject: {subject}\\n\\n{body}\"\n",
    "\n",
    "    server.sendmail(\"sushri.deepa@gmail.com\", email, message)\n",
    "    print(f\"OTP has been sent to {email}\")\n",
    "    server.quit()\n",
    "  except Exception as e:\n",
    "    print(f\"Error sending OTP: {e}\")\n",
    "\n",
    "\n",
    "# Funtion to verify the entered OTP with the sent OTP\n",
    "def verify_otp(user_otp, actual_otp): \n",
    "  return user_otp == actual_otp\n",
    "\n",
    "# Example Usage \n",
    "user_email = input(\"Enter your Email:\")\n",
    "attempts_remaining = 3\n",
    "\n",
    "otp = generate_otp()\n",
    "send_otp_to_email(user_email, otp)\n",
    "\n",
    "while attempts_remaining > 0:\n",
    "  user_input_otp = input(\"Enter the OTP: \")\n",
    "  if verify_otp(user_input_otp, otp):\n",
    "    print(\"Login successful!\")\n",
    "    break\n",
    "  else:\n",
    "    attempts_remaining -= 1\n",
    "    print(f\"Incorrect OTP. {attempts_remaining} attempts remaining.\")\n",
    "\n",
    "if attempts_remaining == 0:\n",
    "  print(\"Login failed. Too many incorrect attempts.\")"
   ]
  }
 ],
 "metadata": {
  "kernelspec": {
   "display_name": "base",
   "language": "python",
   "name": "python3"
  },
  "language_info": {
   "codemirror_mode": {
    "name": "ipython",
    "version": 3
   },
   "file_extension": ".py",
   "mimetype": "text/x-python",
   "name": "python",
   "nbconvert_exporter": "python",
   "pygments_lexer": "ipython3",
   "version": "3.12.7"
  }
 },
 "nbformat": 4,
 "nbformat_minor": 2
}
